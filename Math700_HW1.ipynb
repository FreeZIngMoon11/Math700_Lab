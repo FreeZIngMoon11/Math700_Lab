{
 "cells": [
  {
   "cell_type": "code",
   "execution_count": 18,
   "id": "9a750e9e",
   "metadata": {},
   "outputs": [],
   "source": [
    "from pandas_datareader import data as pdr\n",
    "import pandas as pd\n",
    "import numpy as np\n",
    "import datetime\n",
    "%matplotlib inline\n",
    "import yfinance as yf\n",
    "import seaborn as sns\n",
    "yf.pdr_override()"
   ]
  },
  {
   "cell_type": "markdown",
   "id": "24738641",
   "metadata": {},
   "source": [
    "# Problem 1:-"
   ]
  },
  {
   "cell_type": "markdown",
   "id": "6fe43e98",
   "metadata": {},
   "source": [
    "In this exercise, we fill take a look at few concept of multi-level indexing in pandas, seaborn plotting and do some EDA on stocks:-"
   ]
  },
  {
   "cell_type": "markdown",
   "id": "a317bb27",
   "metadata": {},
   "source": [
    "**Q1. Using yahoo finance API, create a dataframe having stock data of the below mentioned companies from 1st Jan 2006 to 1st Jan 2016**.\n",
    "\n",
    "1) Bank of America <br>\n",
    "2) CitiGroup <br>\n",
    "3) Goldman Sachs <br>\n",
    "4) JPMorgan Chase <br>\n",
    "5) Morgan Stanley <br>\n",
    "6) Wells Fargo <br>\n"
   ]
  },
  {
   "cell_type": "code",
   "execution_count": null,
   "id": "cec2ef12",
   "metadata": {},
   "outputs": [],
   "source": []
  },
  {
   "cell_type": "markdown",
   "id": "11c5f5a3",
   "metadata": {},
   "source": [
    "**Q2.** We have already seen in earlier lab sessions, how yahoo finance stocks data looks like:-<br>\n",
    "\n",
    "We have first the stock information( open, close prices etc ) followed by stock tickers. We want to switch the order, please write the code to do so"
   ]
  },
  {
   "cell_type": "code",
   "execution_count": null,
   "id": "8fc96688",
   "metadata": {},
   "outputs": [],
   "source": []
  },
  {
   "cell_type": "markdown",
   "id": "47dd2fbb",
   "metadata": {},
   "source": [
    "# EDA:-"
   ]
  },
  {
   "cell_type": "markdown",
   "id": "18eee43c",
   "metadata": {},
   "source": [
    "I would recommend checking the documentation of multi level indexing( https://pandas.pydata.org/pandas-docs/stable/reference/api/pandas.DataFrame.xs.html ) before attempting future problems:-"
   ]
  },
  {
   "cell_type": "markdown",
   "id": "86940417",
   "metadata": {},
   "source": [
    "**Q3.** What is the max Close price for each bank's stock throughout the time period?"
   ]
  },
  {
   "cell_type": "code",
   "execution_count": null,
   "id": "0b8931de",
   "metadata": {},
   "outputs": [],
   "source": []
  },
  {
   "cell_type": "markdown",
   "id": "1454cd09",
   "metadata": {},
   "source": [
    "**Q4.** Create a new empty DataFrame called returns. This dataframe will contain the returns for each bank's stock according to closing prices"
   ]
  },
  {
   "cell_type": "code",
   "execution_count": null,
   "id": "dafa988b",
   "metadata": {},
   "outputs": [],
   "source": []
  },
  {
   "cell_type": "markdown",
   "id": "a6355be4",
   "metadata": {},
   "source": [
    "**Q5.** Using this returns DataFrame, figure out on what dates each bank stock had the best and worst single day returns. "
   ]
  },
  {
   "cell_type": "code",
   "execution_count": null,
   "id": "daa7bf33",
   "metadata": {},
   "outputs": [],
   "source": []
  },
  {
   "cell_type": "markdown",
   "id": "eb50f26f",
   "metadata": {},
   "source": [
    "**Q6.** Take a look at the standard deviation of the returns, which stock would you classify as the riskiest over the entire time period? Which would you classify as the riskiest for the year 2014?"
   ]
  },
  {
   "cell_type": "code",
   "execution_count": null,
   "id": "679220f9",
   "metadata": {},
   "outputs": [],
   "source": []
  },
  {
   "cell_type": "markdown",
   "id": "9f137df0",
   "metadata": {},
   "source": [
    "# Plotting:-"
   ]
  },
  {
   "cell_type": "markdown",
   "id": "ec6c51bf",
   "metadata": {},
   "source": [
    "Just like matplotlib is a plotting tool, seaborn is similiar to that, the exercises below will illustrate some use of seaborn, I have already imported seaborn in the packages above:-\n",
    "\n",
    "**Q7.** Create a pairplot using seaborn of the returns dataframe. What stock stands out to you? Can you figure out why?"
   ]
  },
  {
   "cell_type": "code",
   "execution_count": null,
   "id": "dc441ef1",
   "metadata": {},
   "outputs": [],
   "source": []
  },
  {
   "cell_type": "markdown",
   "id": "071660bf",
   "metadata": {},
   "source": [
    "**Q8.** Create a distplot using seaborn of the 2014 returns for Goldman Sachs"
   ]
  },
  {
   "cell_type": "code",
   "execution_count": null,
   "id": "6d462eee",
   "metadata": {},
   "outputs": [],
   "source": []
  },
  {
   "cell_type": "markdown",
   "id": "12cce764",
   "metadata": {},
   "source": [
    "**Q9** Create a line plot showing Close price for each bank for the entire index of time. "
   ]
  },
  {
   "cell_type": "code",
   "execution_count": null,
   "id": "4ed09207",
   "metadata": {},
   "outputs": [],
   "source": []
  },
  {
   "cell_type": "markdown",
   "id": "deb5a40f",
   "metadata": {},
   "source": [
    "**Q10**  Plot the rolling 30 day average against the Close Price for Bank Of America's stock for the year 2008"
   ]
  },
  {
   "cell_type": "code",
   "execution_count": null,
   "id": "0260ef1d",
   "metadata": {},
   "outputs": [],
   "source": []
  },
  {
   "cell_type": "markdown",
   "id": "e1809188",
   "metadata": {},
   "source": [
    "You can also create a heatmap using seaborn:-\n",
    "\n",
    "**Q11**. Create a heatmap of the correlation between the stocks Close Price"
   ]
  },
  {
   "cell_type": "code",
   "execution_count": 2,
   "id": "1b8838f5",
   "metadata": {},
   "outputs": [],
   "source": []
  },
  {
   "cell_type": "markdown",
   "id": "0bf97290",
   "metadata": {},
   "source": [
    "# Problem 2:-"
   ]
  },
  {
   "cell_type": "markdown",
   "id": "32900590",
   "metadata": {},
   "source": [
    "**Pandas_ta** is an extremely useful library for adding technical indicators in a dataframe when we are working with finance data and want to make predictions\n",
    "\n",
    "The goal of this problem is for you to play around with this library\n",
    "\n",
    "You can install it by running pip install pandas_ta"
   ]
  },
  {
   "cell_type": "markdown",
   "id": "3ed42787",
   "metadata": {},
   "source": [
    "**Q1.** Download the apple stock data from '2018-01-01' to '2019-01-01' from yahoo finance"
   ]
  },
  {
   "cell_type": "code",
   "execution_count": null,
   "id": "681b1beb",
   "metadata": {},
   "outputs": [],
   "source": []
  },
  {
   "cell_type": "markdown",
   "id": "5635c2f2",
   "metadata": {},
   "source": [
    "**Q2**. Since we have to predict closing stock price, that will be y for us in linear regression\n",
    "\n",
    "Construct features using pandas_ta\n",
    "\n",
    "Using pandas_ta, you can calculate exponential moving average, Relative Strength Index(RSI) and many other technical indicators\n",
    "\n",
    "You can also use moving averages as features too. Experiment with them\n",
    "\n",
    "Construct X and Y dataframe, try atleast 4 combination of X features\n"
   ]
  },
  {
   "cell_type": "code",
   "execution_count": null,
   "id": "8204c6dc",
   "metadata": {},
   "outputs": [],
   "source": []
  },
  {
   "cell_type": "markdown",
   "id": "9808e015",
   "metadata": {},
   "source": [
    "**Q3**. Drop null values if any in the dataset and then do train test split with 80% examples in training data"
   ]
  },
  {
   "cell_type": "code",
   "execution_count": null,
   "id": "530e8377",
   "metadata": {},
   "outputs": [],
   "source": []
  },
  {
   "cell_type": "markdown",
   "id": "0514d6fa",
   "metadata": {},
   "source": [
    "**Q4.** Fit linear regression model to training data"
   ]
  },
  {
   "cell_type": "code",
   "execution_count": null,
   "id": "ecf9df62",
   "metadata": {},
   "outputs": [],
   "source": []
  },
  {
   "cell_type": "markdown",
   "id": "4f8a6529",
   "metadata": {},
   "source": [
    "**Q4.** Plot a scatter plot of predictions vs test data values and report $R^2$ and mean square error, mean absolute error in all the 4 feature combinations which you tried"
   ]
  },
  {
   "cell_type": "code",
   "execution_count": null,
   "id": "07961616",
   "metadata": {},
   "outputs": [],
   "source": []
  }
 ],
 "metadata": {
  "kernelspec": {
   "display_name": "Python 3",
   "language": "python",
   "name": "python3"
  },
  "language_info": {
   "codemirror_mode": {
    "name": "ipython",
    "version": 3
   },
   "file_extension": ".py",
   "mimetype": "text/x-python",
   "name": "python",
   "nbconvert_exporter": "python",
   "pygments_lexer": "ipython3",
   "version": "3.8.8"
  }
 },
 "nbformat": 4,
 "nbformat_minor": 5
}
