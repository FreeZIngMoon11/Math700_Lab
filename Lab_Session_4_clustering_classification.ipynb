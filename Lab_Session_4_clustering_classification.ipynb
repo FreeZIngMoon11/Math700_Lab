{
 "cells": [
  {
   "cell_type": "markdown",
   "id": "cbcc5fc9",
   "metadata": {},
   "source": [
    "We will be taking a brief look at clustering and classification in this session:-"
   ]
  },
  {
   "cell_type": "code",
   "execution_count": 125,
   "id": "42e51376",
   "metadata": {},
   "outputs": [],
   "source": [
    "import pandas as pd\n",
    "import numpy as np\n",
    "import warnings\n",
    "warnings.filterwarnings('ignore')\n",
    "import yfinance as yf\n",
    "from pandas_datareader import data as pdr\n",
    "import math\n",
    "import matplotlib.pyplot as plt\n",
    "from sklearn.cluster import KMeans\n",
    "from sklearn import metrics\n",
    "yf.pdr_override()"
   ]
  },
  {
   "cell_type": "markdown",
   "id": "f74acc45",
   "metadata": {},
   "source": [
    "# Classification:-"
   ]
  },
  {
   "cell_type": "markdown",
   "id": "d6ae3296",
   "metadata": {},
   "source": [
    "You all might be familiar with logistic regression.<br>\n",
    "\n",
    "Lets see a simple example to predict whether a stock price will go up or down using logistic regression\n",
    "\n",
    "We will be working with S&P 500 data:-"
   ]
  },
  {
   "cell_type": "code",
   "execution_count": 357,
   "id": "7b7ddc98",
   "metadata": {},
   "outputs": [
    {
     "name": "stdout",
     "output_type": "stream",
     "text": [
      "[*********************100%***********************]  1 of 1 completed\n"
     ]
    },
    {
     "data": {
      "text/html": [
       "<div>\n",
       "<style scoped>\n",
       "    .dataframe tbody tr th:only-of-type {\n",
       "        vertical-align: middle;\n",
       "    }\n",
       "\n",
       "    .dataframe tbody tr th {\n",
       "        vertical-align: top;\n",
       "    }\n",
       "\n",
       "    .dataframe thead th {\n",
       "        text-align: right;\n",
       "    }\n",
       "</style>\n",
       "<table border=\"1\" class=\"dataframe\">\n",
       "  <thead>\n",
       "    <tr style=\"text-align: right;\">\n",
       "      <th></th>\n",
       "      <th>Open</th>\n",
       "      <th>High</th>\n",
       "      <th>Low</th>\n",
       "      <th>Close</th>\n",
       "      <th>Adj Close</th>\n",
       "      <th>Volume</th>\n",
       "    </tr>\n",
       "    <tr>\n",
       "      <th>Date</th>\n",
       "      <th></th>\n",
       "      <th></th>\n",
       "      <th></th>\n",
       "      <th></th>\n",
       "      <th></th>\n",
       "      <th></th>\n",
       "    </tr>\n",
       "  </thead>\n",
       "  <tbody>\n",
       "    <tr>\n",
       "      <th>2015-01-02</th>\n",
       "      <td>2058.899902</td>\n",
       "      <td>2072.360107</td>\n",
       "      <td>2046.040039</td>\n",
       "      <td>2058.199951</td>\n",
       "      <td>2058.199951</td>\n",
       "      <td>2708700000</td>\n",
       "    </tr>\n",
       "    <tr>\n",
       "      <th>2015-01-05</th>\n",
       "      <td>2054.439941</td>\n",
       "      <td>2054.439941</td>\n",
       "      <td>2017.339966</td>\n",
       "      <td>2020.579956</td>\n",
       "      <td>2020.579956</td>\n",
       "      <td>3799120000</td>\n",
       "    </tr>\n",
       "    <tr>\n",
       "      <th>2015-01-06</th>\n",
       "      <td>2022.150024</td>\n",
       "      <td>2030.250000</td>\n",
       "      <td>1992.439941</td>\n",
       "      <td>2002.609985</td>\n",
       "      <td>2002.609985</td>\n",
       "      <td>4460110000</td>\n",
       "    </tr>\n",
       "    <tr>\n",
       "      <th>2015-01-07</th>\n",
       "      <td>2005.550049</td>\n",
       "      <td>2029.609985</td>\n",
       "      <td>2005.550049</td>\n",
       "      <td>2025.900024</td>\n",
       "      <td>2025.900024</td>\n",
       "      <td>3805480000</td>\n",
       "    </tr>\n",
       "    <tr>\n",
       "      <th>2015-01-08</th>\n",
       "      <td>2030.609985</td>\n",
       "      <td>2064.080078</td>\n",
       "      <td>2030.609985</td>\n",
       "      <td>2062.139893</td>\n",
       "      <td>2062.139893</td>\n",
       "      <td>3934010000</td>\n",
       "    </tr>\n",
       "  </tbody>\n",
       "</table>\n",
       "</div>"
      ],
      "text/plain": [
       "                   Open         High          Low        Close    Adj Close  \\\n",
       "Date                                                                          \n",
       "2015-01-02  2058.899902  2072.360107  2046.040039  2058.199951  2058.199951   \n",
       "2015-01-05  2054.439941  2054.439941  2017.339966  2020.579956  2020.579956   \n",
       "2015-01-06  2022.150024  2030.250000  1992.439941  2002.609985  2002.609985   \n",
       "2015-01-07  2005.550049  2029.609985  2005.550049  2025.900024  2025.900024   \n",
       "2015-01-08  2030.609985  2064.080078  2030.609985  2062.139893  2062.139893   \n",
       "\n",
       "                Volume  \n",
       "Date                    \n",
       "2015-01-02  2708700000  \n",
       "2015-01-05  3799120000  \n",
       "2015-01-06  4460110000  \n",
       "2015-01-07  3805480000  \n",
       "2015-01-08  3934010000  "
      ]
     },
     "execution_count": 357,
     "metadata": {},
     "output_type": "execute_result"
    }
   ],
   "source": [
    "data = yf.download('^GSPC',start = '2015-01-01', end = '2020-01-01')\n",
    "data.head()"
   ]
  },
  {
   "cell_type": "markdown",
   "id": "877235a1",
   "metadata": {},
   "source": [
    "In this example, we want to predict stock going up or down using previous days return"
   ]
  },
  {
   "cell_type": "code",
   "execution_count": 363,
   "id": "dc6d461b",
   "metadata": {},
   "outputs": [
    {
     "data": {
      "text/html": [
       "<div>\n",
       "<style scoped>\n",
       "    .dataframe tbody tr th:only-of-type {\n",
       "        vertical-align: middle;\n",
       "    }\n",
       "\n",
       "    .dataframe tbody tr th {\n",
       "        vertical-align: top;\n",
       "    }\n",
       "\n",
       "    .dataframe thead th {\n",
       "        text-align: right;\n",
       "    }\n",
       "</style>\n",
       "<table border=\"1\" class=\"dataframe\">\n",
       "  <thead>\n",
       "    <tr style=\"text-align: right;\">\n",
       "      <th></th>\n",
       "      <th>Date</th>\n",
       "      <th>lag0_return</th>\n",
       "      <th>lag1_return</th>\n",
       "      <th>lag2_return</th>\n",
       "    </tr>\n",
       "  </thead>\n",
       "  <tbody>\n",
       "    <tr>\n",
       "      <th>0</th>\n",
       "      <td>2015-01-02</td>\n",
       "      <td>NaN</td>\n",
       "      <td>NaN</td>\n",
       "      <td>NaN</td>\n",
       "    </tr>\n",
       "    <tr>\n",
       "      <th>1</th>\n",
       "      <td>2015-01-05</td>\n",
       "      <td>-0.018278</td>\n",
       "      <td>NaN</td>\n",
       "      <td>NaN</td>\n",
       "    </tr>\n",
       "    <tr>\n",
       "      <th>2</th>\n",
       "      <td>2015-01-06</td>\n",
       "      <td>-0.008893</td>\n",
       "      <td>-0.018278</td>\n",
       "      <td>NaN</td>\n",
       "    </tr>\n",
       "    <tr>\n",
       "      <th>3</th>\n",
       "      <td>2015-01-07</td>\n",
       "      <td>0.011630</td>\n",
       "      <td>-0.008893</td>\n",
       "      <td>-0.018278</td>\n",
       "    </tr>\n",
       "    <tr>\n",
       "      <th>4</th>\n",
       "      <td>2015-01-08</td>\n",
       "      <td>0.017888</td>\n",
       "      <td>0.011630</td>\n",
       "      <td>-0.008893</td>\n",
       "    </tr>\n",
       "    <tr>\n",
       "      <th>...</th>\n",
       "      <td>...</td>\n",
       "      <td>...</td>\n",
       "      <td>...</td>\n",
       "      <td>...</td>\n",
       "    </tr>\n",
       "    <tr>\n",
       "      <th>1253</th>\n",
       "      <td>2019-12-24</td>\n",
       "      <td>-0.000195</td>\n",
       "      <td>0.000866</td>\n",
       "      <td>0.004945</td>\n",
       "    </tr>\n",
       "    <tr>\n",
       "      <th>1254</th>\n",
       "      <td>2019-12-26</td>\n",
       "      <td>0.005128</td>\n",
       "      <td>-0.000195</td>\n",
       "      <td>0.000866</td>\n",
       "    </tr>\n",
       "    <tr>\n",
       "      <th>1255</th>\n",
       "      <td>2019-12-27</td>\n",
       "      <td>0.000034</td>\n",
       "      <td>0.005128</td>\n",
       "      <td>-0.000195</td>\n",
       "    </tr>\n",
       "    <tr>\n",
       "      <th>1256</th>\n",
       "      <td>2019-12-30</td>\n",
       "      <td>-0.005781</td>\n",
       "      <td>0.000034</td>\n",
       "      <td>0.005128</td>\n",
       "    </tr>\n",
       "    <tr>\n",
       "      <th>1257</th>\n",
       "      <td>2019-12-31</td>\n",
       "      <td>0.002946</td>\n",
       "      <td>-0.005781</td>\n",
       "      <td>0.000034</td>\n",
       "    </tr>\n",
       "  </tbody>\n",
       "</table>\n",
       "<p>1258 rows × 4 columns</p>\n",
       "</div>"
      ],
      "text/plain": [
       "           Date  lag0_return  lag1_return  lag2_return\n",
       "0    2015-01-02          NaN          NaN          NaN\n",
       "1    2015-01-05    -0.018278          NaN          NaN\n",
       "2    2015-01-06    -0.008893    -0.018278          NaN\n",
       "3    2015-01-07     0.011630    -0.008893    -0.018278\n",
       "4    2015-01-08     0.017888     0.011630    -0.008893\n",
       "...         ...          ...          ...          ...\n",
       "1253 2019-12-24    -0.000195     0.000866     0.004945\n",
       "1254 2019-12-26     0.005128    -0.000195     0.000866\n",
       "1255 2019-12-27     0.000034     0.005128    -0.000195\n",
       "1256 2019-12-30    -0.005781     0.000034     0.005128\n",
       "1257 2019-12-31     0.002946    -0.005781     0.000034\n",
       "\n",
       "[1258 rows x 4 columns]"
      ]
     },
     "execution_count": 363,
     "metadata": {},
     "output_type": "execute_result"
    }
   ],
   "source": [
    "returns = pd.DataFrame(data['Close'].pct_change()).rename(columns = {'Close':'lag0_return'})\n",
    "returns = returns.reset_index()\n",
    "returns['lag1_return'] = returns['lag0_return'].shift(1)\n",
    "returns['lag2_return'] = returns['lag0_return'].shift(2)\n",
    "returns"
   ]
  },
  {
   "cell_type": "code",
   "execution_count": 369,
   "id": "2f5edf1a",
   "metadata": {},
   "outputs": [
    {
     "data": {
      "text/html": [
       "<div>\n",
       "<style scoped>\n",
       "    .dataframe tbody tr th:only-of-type {\n",
       "        vertical-align: middle;\n",
       "    }\n",
       "\n",
       "    .dataframe tbody tr th {\n",
       "        vertical-align: top;\n",
       "    }\n",
       "\n",
       "    .dataframe thead th {\n",
       "        text-align: right;\n",
       "    }\n",
       "</style>\n",
       "<table border=\"1\" class=\"dataframe\">\n",
       "  <thead>\n",
       "    <tr style=\"text-align: right;\">\n",
       "      <th></th>\n",
       "      <th>Date</th>\n",
       "      <th>lag0_return</th>\n",
       "      <th>lag1_return</th>\n",
       "      <th>lag2_return</th>\n",
       "      <th>direction</th>\n",
       "    </tr>\n",
       "  </thead>\n",
       "  <tbody>\n",
       "    <tr>\n",
       "      <th>0</th>\n",
       "      <td>2015-01-07</td>\n",
       "      <td>0.011630</td>\n",
       "      <td>-0.008893</td>\n",
       "      <td>-0.018278</td>\n",
       "      <td>1</td>\n",
       "    </tr>\n",
       "    <tr>\n",
       "      <th>1</th>\n",
       "      <td>2015-01-08</td>\n",
       "      <td>0.017888</td>\n",
       "      <td>0.011630</td>\n",
       "      <td>-0.008893</td>\n",
       "      <td>1</td>\n",
       "    </tr>\n",
       "    <tr>\n",
       "      <th>2</th>\n",
       "      <td>2015-01-09</td>\n",
       "      <td>-0.008404</td>\n",
       "      <td>0.017888</td>\n",
       "      <td>0.011630</td>\n",
       "      <td>0</td>\n",
       "    </tr>\n",
       "    <tr>\n",
       "      <th>3</th>\n",
       "      <td>2015-01-12</td>\n",
       "      <td>-0.008094</td>\n",
       "      <td>-0.008404</td>\n",
       "      <td>0.017888</td>\n",
       "      <td>0</td>\n",
       "    </tr>\n",
       "    <tr>\n",
       "      <th>4</th>\n",
       "      <td>2015-01-13</td>\n",
       "      <td>-0.002579</td>\n",
       "      <td>-0.008094</td>\n",
       "      <td>-0.008404</td>\n",
       "      <td>0</td>\n",
       "    </tr>\n",
       "  </tbody>\n",
       "</table>\n",
       "</div>"
      ],
      "text/plain": [
       "        Date  lag0_return  lag1_return  lag2_return  direction\n",
       "0 2015-01-07     0.011630    -0.008893    -0.018278          1\n",
       "1 2015-01-08     0.017888     0.011630    -0.008893          1\n",
       "2 2015-01-09    -0.008404     0.017888     0.011630          0\n",
       "3 2015-01-12    -0.008094    -0.008404     0.017888          0\n",
       "4 2015-01-13    -0.002579    -0.008094    -0.008404          0"
      ]
     },
     "execution_count": 369,
     "metadata": {},
     "output_type": "execute_result"
    }
   ],
   "source": [
    "returns = returns.dropna().reset_index(drop = True) #dropping null values\n",
    "returns['direction'] = [1 if i>0 else 0 for i in returns['lag0_return']]\n",
    "returns.head()"
   ]
  },
  {
   "cell_type": "code",
   "execution_count": 370,
   "id": "71d813c5",
   "metadata": {},
   "outputs": [],
   "source": [
    "X = returns[['lag1_return','lag2_return']] #features\n",
    "Y = returns['direction']\n",
    "\n",
    "split = int(0.8*len(returns)) #train-test-split\n",
    "X_train, X_test, Y_train, Y_test = X[:split], X[split:], Y[:split], Y[split:] "
   ]
  },
  {
   "cell_type": "code",
   "execution_count": 371,
   "id": "12d425e9",
   "metadata": {},
   "outputs": [],
   "source": [
    "from sklearn.linear_model import LogisticRegression\n",
    "from sklearn import metrics"
   ]
  },
  {
   "cell_type": "code",
   "execution_count": 372,
   "id": "c4984ebf",
   "metadata": {},
   "outputs": [],
   "source": [
    "model = LogisticRegression()\n",
    "model = model.fit(X_train,Y_train) #training_model"
   ]
  },
  {
   "cell_type": "code",
   "execution_count": 374,
   "id": "8d97a065",
   "metadata": {},
   "outputs": [
    {
     "data": {
      "text/html": [
       "<div>\n",
       "<style scoped>\n",
       "    .dataframe tbody tr th:only-of-type {\n",
       "        vertical-align: middle;\n",
       "    }\n",
       "\n",
       "    .dataframe tbody tr th {\n",
       "        vertical-align: top;\n",
       "    }\n",
       "\n",
       "    .dataframe thead th {\n",
       "        text-align: right;\n",
       "    }\n",
       "</style>\n",
       "<table border=\"1\" class=\"dataframe\">\n",
       "  <thead>\n",
       "    <tr style=\"text-align: right;\">\n",
       "      <th></th>\n",
       "      <th>0</th>\n",
       "      <th>1</th>\n",
       "    </tr>\n",
       "  </thead>\n",
       "  <tbody>\n",
       "    <tr>\n",
       "      <th>0</th>\n",
       "      <td>lag1_return</td>\n",
       "      <td>[-0.21950792523417756]</td>\n",
       "    </tr>\n",
       "    <tr>\n",
       "      <th>1</th>\n",
       "      <td>lag2_return</td>\n",
       "      <td>[-0.0630414962756872]</td>\n",
       "    </tr>\n",
       "  </tbody>\n",
       "</table>\n",
       "</div>"
      ],
      "text/plain": [
       "             0                       1\n",
       "0  lag1_return  [-0.21950792523417756]\n",
       "1  lag2_return   [-0.0630414962756872]"
      ]
     },
     "execution_count": 374,
     "metadata": {},
     "output_type": "execute_result"
    }
   ],
   "source": [
    "pd.DataFrame(list(zip(X_train.columns, np.transpose(model.coef_)))) #model coefficients"
   ]
  },
  {
   "cell_type": "code",
   "execution_count": 378,
   "id": "36d15c8a",
   "metadata": {},
   "outputs": [
    {
     "name": "stdout",
     "output_type": "stream",
     "text": [
      "              precision    recall  f1-score   support\n",
      "\n",
      "           0       0.00      0.00      0.00       102\n",
      "           1       0.59      1.00      0.75       149\n",
      "\n",
      "    accuracy                           0.59       251\n",
      "   macro avg       0.30      0.50      0.37       251\n",
      "weighted avg       0.35      0.59      0.44       251\n",
      "\n"
     ]
    }
   ],
   "source": [
    "predictions = model.predict(X_test)\n",
    "print(metrics.classification_report(Y_test.values, predictions))"
   ]
  },
  {
   "cell_type": "code",
   "execution_count": 384,
   "id": "560667cd",
   "metadata": {},
   "outputs": [
    {
     "name": "stdout",
     "output_type": "stream",
     "text": [
      "0.5936254980079682\n"
     ]
    }
   ],
   "source": [
    "print(model.score(X_test,Y_test))"
   ]
  },
  {
   "cell_type": "markdown",
   "id": "eedadd6e",
   "metadata": {},
   "source": [
    "We can see that model is performing better than a random chance( having accuracy greater than 50 percent ). It is decent but it can be improved as well by feature engineering. Feel free to experiment with features later to improve logistic regression model\n",
    "\n",
    "You can add technical indicators such as momentum, MACD, moving averages as features as well..which will make the model richer"
   ]
  },
  {
   "cell_type": "markdown",
   "id": "e21f0bb7",
   "metadata": {},
   "source": [
    "# Clustering\n",
    "\n",
    "Clustering is a branch of unsupervised machine learning where the goal is to identify groups or clusters in your data set without the use of labels. In clustering, you are identifying a set of similar data points and calling the resulting set a cluster.\n",
    "\n",
    "Let's consider an example of clustering. You may have a data set characterizing your customers like demographic information and personal preferences. A supervised machine learning application would be to determine whether a person will buy a product. However, an unsupervised machine learning application would be to identify several groups or types of customers. With these groups identified, you can analyze the groups and build profiles describing the groups.\n",
    "\n",
    "In this notebook, we will discuss clustering metrics and K-means clustering algorithm, which I guess most of you might be familiar with.\n",
    "\n",
    "We will apply K-means clustering to construct a portfolio of stocks for investing( **This is just an application of algorithm, not an investing recommendation**)"
   ]
  },
  {
   "cell_type": "markdown",
   "id": "6984ae55",
   "metadata": {},
   "source": [
    "Two common metrics for clustering are\n",
    "\n",
    "**Inertia**: the within cluster sum of square distance <br>\n",
    "**Silhouette Coefficient**: a measure of how dense and separated are the clusters\n",
    "\n",
    "\n",
    "$\\sum_{𝑘}\\sum_{X_{j}\\in C_{k}}‖𝑋_{j}−𝜇_{k}‖^2$\n",
    " \n",
    "where  $𝜇_{𝑘}$  is the centroid of cluster  𝑘  and  $𝐶_{𝑘}$  is the set of points assigned to cluster  𝑘 . Basically, the inertia is the sum of the distance of each point to the centroid or center of its assigned cluster. A lower inertia means the points assigned to the clusters are closer to the centroid.\n",
    "\n",
    "The silhouette coefficient is a property assigned to each data point. It is equal to $\\frac{𝑏−𝑎}{max(𝑎,𝑏)}$\n",
    " \n",
    "where  𝑎  is the distance between a point and centroid of its assigned cluster and  𝑏  is the distance between the point and the centroid of the nearest neighboring cluster (i.e. the closest cluster the point is not assigned to). \n",
    "\n",
    "The silhouette coefficient ranges from -1 to 1. Maximizing the silhouette coefficient will prioritize dense and highly separated clusters as dense clusters will have a low  𝑎  value and having clusters well separated from each other will increase  𝑏 ."
   ]
  },
  {
   "cell_type": "markdown",
   "id": "f0633c39",
   "metadata": {},
   "source": [
    "# K - Means Clustering Application"
   ]
  },
  {
   "cell_type": "markdown",
   "id": "85dbc607",
   "metadata": {},
   "source": [
    "The $𝐾$-means algorithms seeks to find $𝐾$ clusters within a data set. The clusters are chosen to reduce the inertia<br>\n",
    "\n",
    "The training algorithm for $𝐾$-means is straight-forward. After seeding the algorithm, choosing the starting locations of each cluster's centroid,\n",
    "\n",
    "1) Assign each point to a cluster based on which cluster centroid it's the closest to <br>\n",
    "2) Calculate the centroid of resulting cluster using the points that have been assigned to the cluster <br>\n",
    "3) Repeat the above steps until convergence is met <br>\n"
   ]
  },
  {
   "cell_type": "markdown",
   "id": "6efb5f28",
   "metadata": {},
   "source": [
    "**Lets look at an application of K-means to stock market:-**<br>\n",
    "    \n",
    "I want to start investing in stock market, and I have no knowledge of it currently. Since there are so many stocks avaialble, I want to construct a portfolio of stocks which can givc me good returns or which are performing well. "
   ]
  },
  {
   "cell_type": "markdown",
   "id": "46b6fc78",
   "metadata": {},
   "source": [
    "Let us download the stock data of companies listed in S&P 500, and then use that to filter our stocks:-"
   ]
  },
  {
   "cell_type": "code",
   "execution_count": 255,
   "id": "1f5b8bb4",
   "metadata": {},
   "outputs": [
    {
     "data": {
      "text/html": [
       "<div>\n",
       "<style scoped>\n",
       "    .dataframe tbody tr th:only-of-type {\n",
       "        vertical-align: middle;\n",
       "    }\n",
       "\n",
       "    .dataframe tbody tr th {\n",
       "        vertical-align: top;\n",
       "    }\n",
       "\n",
       "    .dataframe thead th {\n",
       "        text-align: right;\n",
       "    }\n",
       "</style>\n",
       "<table border=\"1\" class=\"dataframe\">\n",
       "  <thead>\n",
       "    <tr style=\"text-align: right;\">\n",
       "      <th></th>\n",
       "      <th>Symbol</th>\n",
       "      <th>Security</th>\n",
       "      <th>SEC filings</th>\n",
       "      <th>GICS Sector</th>\n",
       "      <th>GICS Sub-Industry</th>\n",
       "      <th>Headquarters Location</th>\n",
       "      <th>Date first added</th>\n",
       "      <th>CIK</th>\n",
       "      <th>Founded</th>\n",
       "    </tr>\n",
       "  </thead>\n",
       "  <tbody>\n",
       "    <tr>\n",
       "      <th>0</th>\n",
       "      <td>MMM</td>\n",
       "      <td>3M</td>\n",
       "      <td>reports</td>\n",
       "      <td>Industrials</td>\n",
       "      <td>Industrial Conglomerates</td>\n",
       "      <td>Saint Paul, Minnesota</td>\n",
       "      <td>1976-08-09</td>\n",
       "      <td>66740</td>\n",
       "      <td>1902</td>\n",
       "    </tr>\n",
       "    <tr>\n",
       "      <th>1</th>\n",
       "      <td>ABT</td>\n",
       "      <td>Abbott Laboratories</td>\n",
       "      <td>reports</td>\n",
       "      <td>Health Care</td>\n",
       "      <td>Health Care Equipment</td>\n",
       "      <td>North Chicago, Illinois</td>\n",
       "      <td>1964-03-31</td>\n",
       "      <td>1800</td>\n",
       "      <td>1888</td>\n",
       "    </tr>\n",
       "    <tr>\n",
       "      <th>2</th>\n",
       "      <td>ABBV</td>\n",
       "      <td>AbbVie</td>\n",
       "      <td>reports</td>\n",
       "      <td>Health Care</td>\n",
       "      <td>Pharmaceuticals</td>\n",
       "      <td>North Chicago, Illinois</td>\n",
       "      <td>2012-12-31</td>\n",
       "      <td>1551152</td>\n",
       "      <td>2013 (1888)</td>\n",
       "    </tr>\n",
       "    <tr>\n",
       "      <th>3</th>\n",
       "      <td>ABMD</td>\n",
       "      <td>Abiomed</td>\n",
       "      <td>reports</td>\n",
       "      <td>Health Care</td>\n",
       "      <td>Health Care Equipment</td>\n",
       "      <td>Danvers, Massachusetts</td>\n",
       "      <td>2018-05-31</td>\n",
       "      <td>815094</td>\n",
       "      <td>1981</td>\n",
       "    </tr>\n",
       "    <tr>\n",
       "      <th>4</th>\n",
       "      <td>ACN</td>\n",
       "      <td>Accenture</td>\n",
       "      <td>reports</td>\n",
       "      <td>Information Technology</td>\n",
       "      <td>IT Consulting &amp; Other Services</td>\n",
       "      <td>Dublin, Ireland</td>\n",
       "      <td>2011-07-06</td>\n",
       "      <td>1467373</td>\n",
       "      <td>1989</td>\n",
       "    </tr>\n",
       "  </tbody>\n",
       "</table>\n",
       "</div>"
      ],
      "text/plain": [
       "  Symbol             Security SEC filings             GICS Sector  \\\n",
       "0    MMM                   3M     reports             Industrials   \n",
       "1    ABT  Abbott Laboratories     reports             Health Care   \n",
       "2   ABBV               AbbVie     reports             Health Care   \n",
       "3   ABMD              Abiomed     reports             Health Care   \n",
       "4    ACN            Accenture     reports  Information Technology   \n",
       "\n",
       "                GICS Sub-Industry    Headquarters Location Date first added  \\\n",
       "0        Industrial Conglomerates    Saint Paul, Minnesota       1976-08-09   \n",
       "1           Health Care Equipment  North Chicago, Illinois       1964-03-31   \n",
       "2                 Pharmaceuticals  North Chicago, Illinois       2012-12-31   \n",
       "3           Health Care Equipment   Danvers, Massachusetts       2018-05-31   \n",
       "4  IT Consulting & Other Services          Dublin, Ireland       2011-07-06   \n",
       "\n",
       "       CIK      Founded  \n",
       "0    66740         1902  \n",
       "1     1800         1888  \n",
       "2  1551152  2013 (1888)  \n",
       "3   815094         1981  \n",
       "4  1467373         1989  "
      ]
     },
     "execution_count": 255,
     "metadata": {},
     "output_type": "execute_result"
    }
   ],
   "source": [
    "sp500_url = 'https://en.wikipedia.org/wiki/List_of_S%26P_500_companies' \n",
    "html_file = pd.read_html(sp500_url)\n",
    "html_file[0].head()"
   ]
  },
  {
   "cell_type": "code",
   "execution_count": 256,
   "id": "39c003b9",
   "metadata": {},
   "outputs": [],
   "source": [
    "company_symbols = html_file[0]['Symbol']\n",
    "company_names = html_file[0]['Security']\n",
    "\n",
    "company_dict = dict(zip(company_symbols,company_names))"
   ]
  },
  {
   "cell_type": "markdown",
   "id": "770be579",
   "metadata": {},
   "source": [
    "Now I want to download the stock price data of all these companies from yahoo finance. To feed it into the API, I need to join them in the form of a string which we will take a look at below:-"
   ]
  },
  {
   "cell_type": "code",
   "execution_count": 257,
   "id": "6c675d80",
   "metadata": {},
   "outputs": [
    {
     "name": "stdout",
     "output_type": "stream",
     "text": [
      "[*********************100%***********************]  505 of 505 completed\n",
      "\n",
      "5 Failed downloads:\n",
      "- BF.B: No data found for this date range, symbol may be delisted\n",
      "- CARR: Data doesn't exist for startDate = 1546318800, endDate = 1577854800\n",
      "- BRK.B: No data found, symbol may be delisted\n",
      "- OTIS: Data doesn't exist for startDate = 1546318800, endDate = 1577854800\n",
      "- OGN: Data doesn't exist for startDate = 1546318800, endDate = 1577854800\n"
     ]
    },
    {
     "data": {
      "text/html": [
       "<div>\n",
       "<style scoped>\n",
       "    .dataframe tbody tr th:only-of-type {\n",
       "        vertical-align: middle;\n",
       "    }\n",
       "\n",
       "    .dataframe tbody tr th {\n",
       "        vertical-align: top;\n",
       "    }\n",
       "\n",
       "    .dataframe thead th {\n",
       "        text-align: right;\n",
       "    }\n",
       "</style>\n",
       "<table border=\"1\" class=\"dataframe\">\n",
       "  <thead>\n",
       "    <tr style=\"text-align: right;\">\n",
       "      <th></th>\n",
       "      <th>A</th>\n",
       "      <th>AAL</th>\n",
       "      <th>AAP</th>\n",
       "      <th>AAPL</th>\n",
       "      <th>ABBV</th>\n",
       "      <th>ABC</th>\n",
       "      <th>ABMD</th>\n",
       "      <th>ABT</th>\n",
       "      <th>ACN</th>\n",
       "      <th>ADBE</th>\n",
       "      <th>...</th>\n",
       "      <th>XEL</th>\n",
       "      <th>XLNX</th>\n",
       "      <th>XOM</th>\n",
       "      <th>XRAY</th>\n",
       "      <th>XYL</th>\n",
       "      <th>YUM</th>\n",
       "      <th>ZBH</th>\n",
       "      <th>ZBRA</th>\n",
       "      <th>ZION</th>\n",
       "      <th>ZTS</th>\n",
       "    </tr>\n",
       "    <tr>\n",
       "      <th>Date</th>\n",
       "      <th></th>\n",
       "      <th></th>\n",
       "      <th></th>\n",
       "      <th></th>\n",
       "      <th></th>\n",
       "      <th></th>\n",
       "      <th></th>\n",
       "      <th></th>\n",
       "      <th></th>\n",
       "      <th></th>\n",
       "      <th></th>\n",
       "      <th></th>\n",
       "      <th></th>\n",
       "      <th></th>\n",
       "      <th></th>\n",
       "      <th></th>\n",
       "      <th></th>\n",
       "      <th></th>\n",
       "      <th></th>\n",
       "      <th></th>\n",
       "      <th></th>\n",
       "    </tr>\n",
       "  </thead>\n",
       "  <tbody>\n",
       "    <tr>\n",
       "      <th>2019-01-02</th>\n",
       "      <td>65.690002</td>\n",
       "      <td>32.480000</td>\n",
       "      <td>157.919998</td>\n",
       "      <td>39.480000</td>\n",
       "      <td>89.230003</td>\n",
       "      <td>74.449997</td>\n",
       "      <td>309.959991</td>\n",
       "      <td>69.500000</td>\n",
       "      <td>140.589996</td>\n",
       "      <td>224.570007</td>\n",
       "      <td>...</td>\n",
       "      <td>48.220001</td>\n",
       "      <td>86.849998</td>\n",
       "      <td>69.690002</td>\n",
       "      <td>37.889999</td>\n",
       "      <td>66.510002</td>\n",
       "      <td>91.440002</td>\n",
       "      <td>102.279999</td>\n",
       "      <td>156.240005</td>\n",
       "      <td>41.580002</td>\n",
       "      <td>84.480003</td>\n",
       "    </tr>\n",
       "    <tr>\n",
       "      <th>2019-01-03</th>\n",
       "      <td>63.270000</td>\n",
       "      <td>30.059999</td>\n",
       "      <td>162.850006</td>\n",
       "      <td>35.547501</td>\n",
       "      <td>86.290001</td>\n",
       "      <td>73.370003</td>\n",
       "      <td>302.290009</td>\n",
       "      <td>66.220001</td>\n",
       "      <td>135.789993</td>\n",
       "      <td>215.699997</td>\n",
       "      <td>...</td>\n",
       "      <td>48.029999</td>\n",
       "      <td>83.580002</td>\n",
       "      <td>68.620003</td>\n",
       "      <td>37.910000</td>\n",
       "      <td>64.230003</td>\n",
       "      <td>89.139999</td>\n",
       "      <td>100.430000</td>\n",
       "      <td>146.880005</td>\n",
       "      <td>41.349998</td>\n",
       "      <td>81.559998</td>\n",
       "    </tr>\n",
       "    <tr>\n",
       "      <th>2019-01-04</th>\n",
       "      <td>65.459999</td>\n",
       "      <td>32.040001</td>\n",
       "      <td>158.809998</td>\n",
       "      <td>37.064999</td>\n",
       "      <td>89.070000</td>\n",
       "      <td>74.220001</td>\n",
       "      <td>313.440002</td>\n",
       "      <td>68.110001</td>\n",
       "      <td>141.070007</td>\n",
       "      <td>226.190002</td>\n",
       "      <td>...</td>\n",
       "      <td>48.500000</td>\n",
       "      <td>87.449997</td>\n",
       "      <td>71.150002</td>\n",
       "      <td>39.009998</td>\n",
       "      <td>66.940002</td>\n",
       "      <td>91.459999</td>\n",
       "      <td>103.860001</td>\n",
       "      <td>152.970001</td>\n",
       "      <td>42.619999</td>\n",
       "      <td>84.760002</td>\n",
       "    </tr>\n",
       "    <tr>\n",
       "      <th>2019-01-07</th>\n",
       "      <td>66.849998</td>\n",
       "      <td>32.950001</td>\n",
       "      <td>161.139999</td>\n",
       "      <td>36.982498</td>\n",
       "      <td>90.370003</td>\n",
       "      <td>74.750000</td>\n",
       "      <td>314.799988</td>\n",
       "      <td>69.129997</td>\n",
       "      <td>141.559998</td>\n",
       "      <td>229.259995</td>\n",
       "      <td>...</td>\n",
       "      <td>48.290001</td>\n",
       "      <td>89.760002</td>\n",
       "      <td>71.519997</td>\n",
       "      <td>39.709999</td>\n",
       "      <td>65.949997</td>\n",
       "      <td>91.360001</td>\n",
       "      <td>103.900002</td>\n",
       "      <td>155.289993</td>\n",
       "      <td>42.790001</td>\n",
       "      <td>85.269997</td>\n",
       "    </tr>\n",
       "    <tr>\n",
       "      <th>2019-01-08</th>\n",
       "      <td>67.830002</td>\n",
       "      <td>32.419998</td>\n",
       "      <td>160.020004</td>\n",
       "      <td>37.687500</td>\n",
       "      <td>90.790001</td>\n",
       "      <td>75.550003</td>\n",
       "      <td>318.420013</td>\n",
       "      <td>68.300003</td>\n",
       "      <td>145.139999</td>\n",
       "      <td>232.679993</td>\n",
       "      <td>...</td>\n",
       "      <td>48.849998</td>\n",
       "      <td>88.050003</td>\n",
       "      <td>72.040001</td>\n",
       "      <td>39.439999</td>\n",
       "      <td>66.570000</td>\n",
       "      <td>91.180000</td>\n",
       "      <td>101.570000</td>\n",
       "      <td>156.330002</td>\n",
       "      <td>43.180000</td>\n",
       "      <td>86.540001</td>\n",
       "    </tr>\n",
       "  </tbody>\n",
       "</table>\n",
       "<p>5 rows × 505 columns</p>\n",
       "</div>"
      ],
      "text/plain": [
       "                    A        AAL         AAP       AAPL       ABBV        ABC  \\\n",
       "Date                                                                            \n",
       "2019-01-02  65.690002  32.480000  157.919998  39.480000  89.230003  74.449997   \n",
       "2019-01-03  63.270000  30.059999  162.850006  35.547501  86.290001  73.370003   \n",
       "2019-01-04  65.459999  32.040001  158.809998  37.064999  89.070000  74.220001   \n",
       "2019-01-07  66.849998  32.950001  161.139999  36.982498  90.370003  74.750000   \n",
       "2019-01-08  67.830002  32.419998  160.020004  37.687500  90.790001  75.550003   \n",
       "\n",
       "                  ABMD        ABT         ACN        ADBE  ...        XEL  \\\n",
       "Date                                                       ...              \n",
       "2019-01-02  309.959991  69.500000  140.589996  224.570007  ...  48.220001   \n",
       "2019-01-03  302.290009  66.220001  135.789993  215.699997  ...  48.029999   \n",
       "2019-01-04  313.440002  68.110001  141.070007  226.190002  ...  48.500000   \n",
       "2019-01-07  314.799988  69.129997  141.559998  229.259995  ...  48.290001   \n",
       "2019-01-08  318.420013  68.300003  145.139999  232.679993  ...  48.849998   \n",
       "\n",
       "                 XLNX        XOM       XRAY        XYL        YUM         ZBH  \\\n",
       "Date                                                                            \n",
       "2019-01-02  86.849998  69.690002  37.889999  66.510002  91.440002  102.279999   \n",
       "2019-01-03  83.580002  68.620003  37.910000  64.230003  89.139999  100.430000   \n",
       "2019-01-04  87.449997  71.150002  39.009998  66.940002  91.459999  103.860001   \n",
       "2019-01-07  89.760002  71.519997  39.709999  65.949997  91.360001  103.900002   \n",
       "2019-01-08  88.050003  72.040001  39.439999  66.570000  91.180000  101.570000   \n",
       "\n",
       "                  ZBRA       ZION        ZTS  \n",
       "Date                                          \n",
       "2019-01-02  156.240005  41.580002  84.480003  \n",
       "2019-01-03  146.880005  41.349998  81.559998  \n",
       "2019-01-04  152.970001  42.619999  84.760002  \n",
       "2019-01-07  155.289993  42.790001  85.269997  \n",
       "2019-01-08  156.330002  43.180000  86.540001  \n",
       "\n",
       "[5 rows x 505 columns]"
      ]
     },
     "execution_count": 257,
     "metadata": {},
     "output_type": "execute_result"
    }
   ],
   "source": [
    "company_string = ' '.join([company for company in list(company_symbols)])\n",
    "stocks_data = pdr.get_data_yahoo(company_string, start='2019-01-01', end='2020-01-01')['Close']\n",
    "stocks_data.head()"
   ]
  },
  {
   "cell_type": "code",
   "execution_count": 259,
   "id": "2ee7f43f",
   "metadata": {},
   "outputs": [
    {
     "data": {
      "text/plain": [
       "252"
      ]
     },
     "execution_count": 259,
     "metadata": {},
     "output_type": "execute_result"
    }
   ],
   "source": [
    "trading_days = len(stocks_data) #calculating number of trading days in a year\n",
    "trading_days"
   ]
  },
  {
   "cell_type": "markdown",
   "id": "b7f4da7e",
   "metadata": {},
   "source": [
    "I want to decide my portfolio of stocks based on yearly return and yearly volatility.<br>\n",
    "\n",
    "For that I will need to calculate yearly return and yearly volatility for each of the companies:- <br>\n",
    "\n",
    "Let $r_1$, $r_2$, $\\ldots$, $r_{252}$ be the the daily returns of the stock in a trading year and $r_0$ be the yearly return. Then we can write:-\n",
    "    \n",
    "$1+r_{0} = (1+r_{1})(1+r_{2})\\ldots(1+r_{252})$ <br>\n",
    "\n",
    "An Approximate way of calculating yearly return and yearly variance is as follows:-\n",
    "\n",
    "$\\ln(1+r_{0}) = \\sum_{i=1}^{i=252}\\ln(1+r_{i})$\n",
    "\n",
    "$\\ln(1+x)$ can be approximated as x when x is small.\n",
    "\n",
    "$r_{0} = \\sum_{i=1}^{i=252}r_{i} = Mean Return * Trading Days$\n"
   ]
  },
  {
   "cell_type": "code",
   "execution_count": 309,
   "id": "16e33637",
   "metadata": {},
   "outputs": [
    {
     "data": {
      "text/html": [
       "<div>\n",
       "<style scoped>\n",
       "    .dataframe tbody tr th:only-of-type {\n",
       "        vertical-align: middle;\n",
       "    }\n",
       "\n",
       "    .dataframe tbody tr th {\n",
       "        vertical-align: top;\n",
       "    }\n",
       "\n",
       "    .dataframe thead th {\n",
       "        text-align: right;\n",
       "    }\n",
       "</style>\n",
       "<table border=\"1\" class=\"dataframe\">\n",
       "  <thead>\n",
       "    <tr style=\"text-align: right;\">\n",
       "      <th></th>\n",
       "      <th>Yearly_return</th>\n",
       "      <th>Yearly_Volatility</th>\n",
       "    </tr>\n",
       "  </thead>\n",
       "  <tbody>\n",
       "    <tr>\n",
       "      <th>A</th>\n",
       "      <td>0.292525</td>\n",
       "      <td>0.243389</td>\n",
       "    </tr>\n",
       "    <tr>\n",
       "      <th>AAL</th>\n",
       "      <td>-0.061518</td>\n",
       "      <td>0.355943</td>\n",
       "    </tr>\n",
       "    <tr>\n",
       "      <th>AAP</th>\n",
       "      <td>0.049455</td>\n",
       "      <td>0.265625</td>\n",
       "    </tr>\n",
       "    <tr>\n",
       "      <th>AAPL</th>\n",
       "      <td>0.658108</td>\n",
       "      <td>0.262326</td>\n",
       "    </tr>\n",
       "    <tr>\n",
       "      <th>ABBV</th>\n",
       "      <td>0.031054</td>\n",
       "      <td>0.273103</td>\n",
       "    </tr>\n",
       "    <tr>\n",
       "      <th>...</th>\n",
       "      <td>...</td>\n",
       "      <td>...</td>\n",
       "    </tr>\n",
       "    <tr>\n",
       "      <th>YUM</th>\n",
       "      <td>0.109296</td>\n",
       "      <td>0.155753</td>\n",
       "    </tr>\n",
       "    <tr>\n",
       "      <th>ZBH</th>\n",
       "      <td>0.406194</td>\n",
       "      <td>0.218767</td>\n",
       "    </tr>\n",
       "    <tr>\n",
       "      <th>ZBRA</th>\n",
       "      <td>0.565628</td>\n",
       "      <td>0.380701</td>\n",
       "    </tr>\n",
       "    <tr>\n",
       "      <th>ZION</th>\n",
       "      <td>0.255231</td>\n",
       "      <td>0.253621</td>\n",
       "    </tr>\n",
       "    <tr>\n",
       "      <th>ZTS</th>\n",
       "      <td>0.472370</td>\n",
       "      <td>0.207364</td>\n",
       "    </tr>\n",
       "  </tbody>\n",
       "</table>\n",
       "<p>500 rows × 2 columns</p>\n",
       "</div>"
      ],
      "text/plain": [
       "      Yearly_return  Yearly_Volatility\n",
       "A          0.292525           0.243389\n",
       "AAL       -0.061518           0.355943\n",
       "AAP        0.049455           0.265625\n",
       "AAPL       0.658108           0.262326\n",
       "ABBV       0.031054           0.273103\n",
       "...             ...                ...\n",
       "YUM        0.109296           0.155753\n",
       "ZBH        0.406194           0.218767\n",
       "ZBRA       0.565628           0.380701\n",
       "ZION       0.255231           0.253621\n",
       "ZTS        0.472370           0.207364\n",
       "\n",
       "[500 rows x 2 columns]"
      ]
     },
     "execution_count": 309,
     "metadata": {},
     "output_type": "execute_result"
    }
   ],
   "source": [
    "stock_stats = pd.DataFrame(stocks_data.pct_change().mean()*trading_days) #yearly return for each of the stocks\n",
    "stock_stats.columns = ['Yearly_return']\n",
    "stock_stats['Yearly_Volatility'] = stocks_data.pct_change().std() * math.sqrt(trading_days) #yearly volatality calculation\n",
    "stock_stats = stock_stats.dropna() #removing null values\n",
    "stock_stats\n",
    "#returns.drop('TSLA', inplace = True)"
   ]
  },
  {
   "cell_type": "markdown",
   "id": "c420a9a2",
   "metadata": {},
   "source": [
    "Now we can get started with clustering. The main thing is choosing the right value of $k$, as it is a hyperparameter\n",
    "\n",
    "We expect as we use more clusters to group our observations the inertia goes down because the points will be closer to the cluster's centroid.  \n",
    "\n",
    "we need to identify at what point is increasing the number of clusters no longer resulting in an appreciable drop in inertia (the point of diminishing returns). We do that by using ELBOW method:-"
   ]
  },
  {
   "cell_type": "markdown",
   "id": "59f23750",
   "metadata": {},
   "source": [
    "The below function experiments with a few values of K and plots the inertia and silhouette score:-"
   ]
  },
  {
   "cell_type": "code",
   "execution_count": 312,
   "id": "71d8d447",
   "metadata": {},
   "outputs": [],
   "source": [
    "def plot_cluster(X, max_loop=20):\n",
    "    \n",
    "    sse_within_cluster = {}\n",
    "    silhouette_score = {}\n",
    "    \n",
    "    for k in range(2, max_loop):\n",
    "        kmeans = KMeans(n_clusters=k,  random_state=10)\n",
    "        kmeans.fit(X)\n",
    "        sse_within_cluster[k] = kmeans.inertia_\n",
    "        silhouette_score[k] = metrics.silhouette_score(X, kmeans.labels_, random_state=10)\n",
    "\n",
    "    _ = plt.figure(figsize=(10,6))\n",
    "    ax1 = plt.subplot(211)\n",
    "    _ = plt.plot(list(sse_within_cluster.keys()), list(sse_within_cluster.values()))\n",
    "    _ = plt.xlabel(\"Number of Clusters\")\n",
    "    _ = plt.ylabel(\"SSE Within Cluster\")\n",
    "    _ = plt.title(\"Within Cluster SSE After K-Means Clustering\")\n",
    "    \n",
    "    ax2 = plt.subplot(212)\n",
    "    _ = plt.plot(list(silhouette_score.keys()), list(silhouette_score.values()))\n",
    "    _ = plt.xlabel(\"Number of Clusters\")\n",
    "    _ = plt.ylabel(\"Silhouette Score\")\n",
    "    _ = plt.title(\"Silhouette Score After K-Means Clustering\")\n",
    "    \n",
    "    plt.subplots_adjust(top=0.92, bottom=0.08, left=0.10, right=0.95, hspace=0.5, wspace=0.35)"
   ]
  },
  {
   "cell_type": "code",
   "execution_count": 313,
   "id": "6e5a69e6",
   "metadata": {},
   "outputs": [
    {
     "data": {
      "image/png": "[encoded data removed]",
      "text/plain": [
       "<Figure size 720x432 with 2 Axes>"
      ]
     },
     "metadata": {
      "needs_background": "light"
     },
     "output_type": "display_data"
    }
   ],
   "source": [
    "plot_cluster(stock_stats.values)"
   ]
  },
  {
   "cell_type": "markdown",
   "id": "3fc837ef",
   "metadata": {},
   "source": [
    "We see that in first plot, at $k=8$ there is a kink, and when we go from $k=8$ to $k=9$, the Silhouette Score drops massively as well. Hence, we will go ahead with $k=8$"
   ]
  },
  {
   "cell_type": "code",
   "execution_count": 314,
   "id": "adc282b8",
   "metadata": {},
   "outputs": [
    {
     "data": {
      "image/png": "[encoded data removed]",
      "text/plain": [
       "<Figure size 432x288 with 1 Axes>"
      ]
     },
     "metadata": {
      "needs_background": "light"
     },
     "output_type": "display_data"
    }
   ],
   "source": [
    "features = stock_stats.values\n",
    "kmeans = KMeans(n_clusters = 8).fit(features)\n",
    "centroids = kmeans.cluster_centers_\n",
    "plt.scatter(features[:,0],features[:,1], c = kmeans.labels_, cmap =\"rainbow\")\n",
    "plt.show()"
   ]
  },
  {
   "cell_type": "markdown",
   "id": "8712e725",
   "metadata": {},
   "source": [
    "We can see in the above plot that there is one outlier point towards the extreme right. We should remove that as that is redundant. It is the point with max value of yearly return and yearly volatlity"
   ]
  },
  {
   "cell_type": "code",
   "execution_count": 315,
   "id": "59fc1c54",
   "metadata": {},
   "outputs": [
    {
     "data": {
      "text/plain": [
       "Yearly_return        ENPH\n",
       "Yearly_Volatility    ENPH\n",
       "dtype: object"
      ]
     },
     "execution_count": 315,
     "metadata": {},
     "output_type": "execute_result"
    }
   ],
   "source": [
    "stock_stats.idxmax()"
   ]
  },
  {
   "cell_type": "code",
   "execution_count": 316,
   "id": "7ceac48f",
   "metadata": {},
   "outputs": [
    {
     "data": {
      "text/plain": [
       "(499, 2)"
      ]
     },
     "execution_count": 316,
     "metadata": {},
     "output_type": "execute_result"
    }
   ],
   "source": [
    "stock_stats.drop('ENPH', inplace = True)\n",
    "stock_stats.shape"
   ]
  },
  {
   "cell_type": "markdown",
   "id": "749299f3",
   "metadata": {},
   "source": [
    "Now, lets run again our k-means function on the updated data"
   ]
  },
  {
   "cell_type": "code",
   "execution_count": 317,
   "id": "cf73bea3",
   "metadata": {},
   "outputs": [
    {
     "data": {
      "image/png": "[encoded data removed]",
      "text/plain": [
       "<Figure size 720x432 with 2 Axes>"
      ]
     },
     "metadata": {
      "needs_background": "light"
     },
     "output_type": "display_data"
    }
   ],
   "source": [
    "plot_cluster(stock_stats)"
   ]
  },
  {
   "cell_type": "markdown",
   "id": "afe49db7",
   "metadata": {},
   "source": [
    "Now we can see after removal of outlier point, the value of $k$ being observed is 6"
   ]
  },
  {
   "cell_type": "code",
   "execution_count": 318,
   "id": "67a9051d",
   "metadata": {},
   "outputs": [
    {
     "data": {
      "image/png": "[encoded data removed]",
      "text/plain": [
       "<Figure size 432x288 with 1 Axes>"
      ]
     },
     "metadata": {
      "needs_background": "light"
     },
     "output_type": "display_data"
    }
   ],
   "source": [
    "features = stock_stats.values\n",
    "kmeans = KMeans(n_clusters = 6).fit(features)\n",
    "centroids = kmeans.cluster_centers_\n",
    "plt.scatter(features[:,0],features[:,1], c = kmeans.labels_, cmap =\"rainbow\")\n",
    "plt.show()"
   ]
  },
  {
   "cell_type": "code",
   "execution_count": 319,
   "id": "8fd3d618",
   "metadata": {},
   "outputs": [
    {
     "data": {
      "text/html": [
       "<div>\n",
       "<style scoped>\n",
       "    .dataframe tbody tr th:only-of-type {\n",
       "        vertical-align: middle;\n",
       "    }\n",
       "\n",
       "    .dataframe tbody tr th {\n",
       "        vertical-align: top;\n",
       "    }\n",
       "\n",
       "    .dataframe thead th {\n",
       "        text-align: right;\n",
       "    }\n",
       "</style>\n",
       "<table border=\"1\" class=\"dataframe\">\n",
       "  <thead>\n",
       "    <tr style=\"text-align: right;\">\n",
       "      <th></th>\n",
       "      <th>Yearly_return</th>\n",
       "      <th>Yearly_Volatility</th>\n",
       "      <th>cluster_labels</th>\n",
       "    </tr>\n",
       "  </thead>\n",
       "  <tbody>\n",
       "    <tr>\n",
       "      <th>A</th>\n",
       "      <td>0.292525</td>\n",
       "      <td>0.243389</td>\n",
       "      <td>1</td>\n",
       "    </tr>\n",
       "    <tr>\n",
       "      <th>AAL</th>\n",
       "      <td>-0.061518</td>\n",
       "      <td>0.355943</td>\n",
       "      <td>2</td>\n",
       "    </tr>\n",
       "    <tr>\n",
       "      <th>AAP</th>\n",
       "      <td>0.049455</td>\n",
       "      <td>0.265625</td>\n",
       "      <td>2</td>\n",
       "    </tr>\n",
       "    <tr>\n",
       "      <th>AAPL</th>\n",
       "      <td>0.658108</td>\n",
       "      <td>0.262326</td>\n",
       "      <td>3</td>\n",
       "    </tr>\n",
       "    <tr>\n",
       "      <th>ABBV</th>\n",
       "      <td>0.031054</td>\n",
       "      <td>0.273103</td>\n",
       "      <td>2</td>\n",
       "    </tr>\n",
       "  </tbody>\n",
       "</table>\n",
       "</div>"
      ],
      "text/plain": [
       "      Yearly_return  Yearly_Volatility  cluster_labels\n",
       "A          0.292525           0.243389               1\n",
       "AAL       -0.061518           0.355943               2\n",
       "AAP        0.049455           0.265625               2\n",
       "AAPL       0.658108           0.262326               3\n",
       "ABBV       0.031054           0.273103               2"
      ]
     },
     "execution_count": 319,
     "metadata": {},
     "output_type": "execute_result"
    }
   ],
   "source": [
    "stock_stats['cluster_labels'] = kmeans.labels_\n",
    "stock_stats.head()"
   ]
  },
  {
   "cell_type": "code",
   "execution_count": 320,
   "id": "d2e5207a",
   "metadata": {},
   "outputs": [
    {
     "data": {
      "text/plain": [
       "1    173\n",
       "4    129\n",
       "0    101\n",
       "2     55\n",
       "3     30\n",
       "5     11\n",
       "Name: cluster_labels, dtype: int64"
      ]
     },
     "execution_count": 320,
     "metadata": {},
     "output_type": "execute_result"
    }
   ],
   "source": [
    "stock_stats['cluster_labels'].value_counts()"
   ]
  },
  {
   "cell_type": "code",
   "execution_count": 321,
   "id": "44791660",
   "metadata": {},
   "outputs": [],
   "source": [
    "stock_stats_with_symbols = stock_stats.reset_index().rename(columns = {'index':'Symbol'})"
   ]
  },
  {
   "cell_type": "markdown",
   "id": "3c5a4ca2",
   "metadata": {},
   "source": [
    "Now I want to understand for each cluster, the mean yearly return and mean yearly volatality:-"
   ]
  },
  {
   "cell_type": "code",
   "execution_count": 322,
   "id": "5baa8729",
   "metadata": {},
   "outputs": [
    {
     "data": {
      "text/html": [
       "<div>\n",
       "<style scoped>\n",
       "    .dataframe tbody tr th:only-of-type {\n",
       "        vertical-align: middle;\n",
       "    }\n",
       "\n",
       "    .dataframe tbody tr th {\n",
       "        vertical-align: top;\n",
       "    }\n",
       "\n",
       "    .dataframe thead th {\n",
       "        text-align: right;\n",
       "    }\n",
       "</style>\n",
       "<table border=\"1\" class=\"dataframe\">\n",
       "  <thead>\n",
       "    <tr style=\"text-align: right;\">\n",
       "      <th></th>\n",
       "      <th>cluster_labels</th>\n",
       "      <th>Yearly_return</th>\n",
       "      <th>Yearly_Volatility</th>\n",
       "      <th>Count</th>\n",
       "    </tr>\n",
       "  </thead>\n",
       "  <tbody>\n",
       "    <tr>\n",
       "      <th>0</th>\n",
       "      <td>0</td>\n",
       "      <td>0.453818</td>\n",
       "      <td>0.269756</td>\n",
       "      <td>101</td>\n",
       "    </tr>\n",
       "    <tr>\n",
       "      <th>1</th>\n",
       "      <td>1</td>\n",
       "      <td>0.309798</td>\n",
       "      <td>0.211576</td>\n",
       "      <td>173</td>\n",
       "    </tr>\n",
       "    <tr>\n",
       "      <th>2</th>\n",
       "      <td>2</td>\n",
       "      <td>0.009995</td>\n",
       "      <td>0.298502</td>\n",
       "      <td>55</td>\n",
       "    </tr>\n",
       "    <tr>\n",
       "      <th>3</th>\n",
       "      <td>3</td>\n",
       "      <td>0.686895</td>\n",
       "      <td>0.338960</td>\n",
       "      <td>30</td>\n",
       "    </tr>\n",
       "    <tr>\n",
       "      <th>4</th>\n",
       "      <td>4</td>\n",
       "      <td>0.169479</td>\n",
       "      <td>0.234467</td>\n",
       "      <td>129</td>\n",
       "    </tr>\n",
       "    <tr>\n",
       "      <th>5</th>\n",
       "      <td>5</td>\n",
       "      <td>-0.255456</td>\n",
       "      <td>0.409605</td>\n",
       "      <td>11</td>\n",
       "    </tr>\n",
       "  </tbody>\n",
       "</table>\n",
       "</div>"
      ],
      "text/plain": [
       "   cluster_labels  Yearly_return  Yearly_Volatility  Count\n",
       "0               0       0.453818           0.269756    101\n",
       "1               1       0.309798           0.211576    173\n",
       "2               2       0.009995           0.298502     55\n",
       "3               3       0.686895           0.338960     30\n",
       "4               4       0.169479           0.234467    129\n",
       "5               5      -0.255456           0.409605     11"
      ]
     },
     "execution_count": 322,
     "metadata": {},
     "output_type": "execute_result"
    }
   ],
   "source": [
    "stock_clustered = (\n",
    "     stock_stats_with_symbols\n",
    "    .groupby('cluster_labels')\n",
    "    .agg({\"Yearly_return\":\"mean\", \"Yearly_Volatility\":\"mean\", \"Symbol\":\"size\"})\n",
    "    .rename(columns = {\"Symbol\":\"Count\"})\n",
    "    .reset_index()\n",
    ")\n",
    "\n",
    "stock_clustered"
   ]
  },
  {
   "cell_type": "markdown",
   "id": "ace50d16",
   "metadata": {},
   "source": [
    "Now, clusters 2 and 5 are not useful to us since they have very low return along with high volatality. \n",
    "\n",
    "Since, cluster 1 has lot of stocks in it, its worth examining a bit more. Let us try to run K-means again on that, to see if we can get a pool of better performing stocks:-"
   ]
  },
  {
   "cell_type": "code",
   "execution_count": 351,
   "id": "68edda29",
   "metadata": {},
   "outputs": [],
   "source": [
    "stock_stats_sub_symbols = stock_stats_with_symbols[stock_stats_with_symbols['cluster_labels'] == 1].reset_index(drop=True)\n",
    "stock_stats_sub = stock_stats[stock_stats['cluster_labels'] == 1].reset_index(drop=True)"
   ]
  },
  {
   "cell_type": "code",
   "execution_count": 346,
   "id": "5868e639",
   "metadata": {},
   "outputs": [
    {
     "data": {
      "text/html": [
       "<div>\n",
       "<style scoped>\n",
       "    .dataframe tbody tr th:only-of-type {\n",
       "        vertical-align: middle;\n",
       "    }\n",
       "\n",
       "    .dataframe tbody tr th {\n",
       "        vertical-align: top;\n",
       "    }\n",
       "\n",
       "    .dataframe thead th {\n",
       "        text-align: right;\n",
       "    }\n",
       "</style>\n",
       "<table border=\"1\" class=\"dataframe\">\n",
       "  <thead>\n",
       "    <tr style=\"text-align: right;\">\n",
       "      <th></th>\n",
       "      <th>Yearly_return</th>\n",
       "      <th>Yearly_Volatility</th>\n",
       "    </tr>\n",
       "  </thead>\n",
       "  <tbody>\n",
       "    <tr>\n",
       "      <th>0</th>\n",
       "      <td>0.292525</td>\n",
       "      <td>0.243389</td>\n",
       "    </tr>\n",
       "    <tr>\n",
       "      <th>1</th>\n",
       "      <td>0.243146</td>\n",
       "      <td>0.195846</td>\n",
       "    </tr>\n",
       "    <tr>\n",
       "      <th>2</th>\n",
       "      <td>0.287912</td>\n",
       "      <td>0.182200</td>\n",
       "    </tr>\n",
       "    <tr>\n",
       "      <th>3</th>\n",
       "      <td>0.269393</td>\n",
       "      <td>0.135657</td>\n",
       "    </tr>\n",
       "    <tr>\n",
       "      <th>4</th>\n",
       "      <td>0.360297</td>\n",
       "      <td>0.199490</td>\n",
       "    </tr>\n",
       "    <tr>\n",
       "      <th>...</th>\n",
       "      <td>...</td>\n",
       "      <td>...</td>\n",
       "    </tr>\n",
       "    <tr>\n",
       "      <th>168</th>\n",
       "      <td>0.252919</td>\n",
       "      <td>0.144249</td>\n",
       "    </tr>\n",
       "    <tr>\n",
       "      <th>169</th>\n",
       "      <td>0.373861</td>\n",
       "      <td>0.165771</td>\n",
       "    </tr>\n",
       "    <tr>\n",
       "      <th>170</th>\n",
       "      <td>0.364671</td>\n",
       "      <td>0.223062</td>\n",
       "    </tr>\n",
       "    <tr>\n",
       "      <th>171</th>\n",
       "      <td>0.286342</td>\n",
       "      <td>0.141609</td>\n",
       "    </tr>\n",
       "    <tr>\n",
       "      <th>172</th>\n",
       "      <td>0.255231</td>\n",
       "      <td>0.253621</td>\n",
       "    </tr>\n",
       "  </tbody>\n",
       "</table>\n",
       "<p>173 rows × 2 columns</p>\n",
       "</div>"
      ],
      "text/plain": [
       "     Yearly_return  Yearly_Volatility\n",
       "0         0.292525           0.243389\n",
       "1         0.243146           0.195846\n",
       "2         0.287912           0.182200\n",
       "3         0.269393           0.135657\n",
       "4         0.360297           0.199490\n",
       "..             ...                ...\n",
       "168       0.252919           0.144249\n",
       "169       0.373861           0.165771\n",
       "170       0.364671           0.223062\n",
       "171       0.286342           0.141609\n",
       "172       0.255231           0.253621\n",
       "\n",
       "[173 rows x 2 columns]"
      ]
     },
     "execution_count": 346,
     "metadata": {},
     "output_type": "execute_result"
    }
   ],
   "source": [
    "stock_stats_sub.iloc[:,0:2] #this will be the feature passed to k-means"
   ]
  },
  {
   "cell_type": "code",
   "execution_count": 352,
   "id": "e55f9a21",
   "metadata": {},
   "outputs": [
    {
     "data": {
      "image/png": "[encoded data removed]",
      "text/plain": [
       "<Figure size 720x432 with 2 Axes>"
      ]
     },
     "metadata": {
      "needs_background": "light"
     },
     "output_type": "display_data"
    }
   ],
   "source": [
    "plot_cluster(stock_stats_sub.iloc[:,0:2].values)"
   ]
  },
  {
   "cell_type": "code",
   "execution_count": 353,
   "id": "997b35eb",
   "metadata": {},
   "outputs": [
    {
     "data": {
      "image/png": "[encoded data removed]",
      "text/plain": [
       "<Figure size 432x288 with 1 Axes>"
      ]
     },
     "metadata": {
      "needs_background": "light"
     },
     "output_type": "display_data"
    }
   ],
   "source": [
    "Y = stock_stats_sub.iloc[:,0:2].values\n",
    "kmeans = KMeans(n_clusters = 6).fit(Y)\n",
    "centroids = kmeans.cluster_centers_\n",
    "plt.scatter(Y[:,0],Y[:,1], c = kmeans.labels_, cmap =\"rainbow\")\n",
    "plt.show()"
   ]
  },
  {
   "cell_type": "code",
   "execution_count": 354,
   "id": "3327e667",
   "metadata": {},
   "outputs": [
    {
     "data": {
      "text/html": [
       "<div>\n",
       "<style scoped>\n",
       "    .dataframe tbody tr th:only-of-type {\n",
       "        vertical-align: middle;\n",
       "    }\n",
       "\n",
       "    .dataframe tbody tr th {\n",
       "        vertical-align: top;\n",
       "    }\n",
       "\n",
       "    .dataframe thead th {\n",
       "        text-align: right;\n",
       "    }\n",
       "</style>\n",
       "<table border=\"1\" class=\"dataframe\">\n",
       "  <thead>\n",
       "    <tr style=\"text-align: right;\">\n",
       "      <th></th>\n",
       "      <th>Symbol</th>\n",
       "      <th>Yearly_return</th>\n",
       "      <th>Yearly_Volatility</th>\n",
       "      <th>cluster_labels</th>\n",
       "    </tr>\n",
       "  </thead>\n",
       "  <tbody>\n",
       "    <tr>\n",
       "      <th>0</th>\n",
       "      <td>A</td>\n",
       "      <td>0.292525</td>\n",
       "      <td>0.243389</td>\n",
       "      <td>1</td>\n",
       "    </tr>\n",
       "    <tr>\n",
       "      <th>1</th>\n",
       "      <td>ABT</td>\n",
       "      <td>0.243146</td>\n",
       "      <td>0.195846</td>\n",
       "      <td>0</td>\n",
       "    </tr>\n",
       "    <tr>\n",
       "      <th>2</th>\n",
       "      <td>ADP</td>\n",
       "      <td>0.287912</td>\n",
       "      <td>0.182200</td>\n",
       "      <td>0</td>\n",
       "    </tr>\n",
       "    <tr>\n",
       "      <th>3</th>\n",
       "      <td>AEP</td>\n",
       "      <td>0.269393</td>\n",
       "      <td>0.135657</td>\n",
       "      <td>4</td>\n",
       "    </tr>\n",
       "    <tr>\n",
       "      <th>4</th>\n",
       "      <td>AES</td>\n",
       "      <td>0.360297</td>\n",
       "      <td>0.199490</td>\n",
       "      <td>3</td>\n",
       "    </tr>\n",
       "    <tr>\n",
       "      <th>...</th>\n",
       "      <td>...</td>\n",
       "      <td>...</td>\n",
       "      <td>...</td>\n",
       "      <td>...</td>\n",
       "    </tr>\n",
       "    <tr>\n",
       "      <th>168</th>\n",
       "      <td>WMT</td>\n",
       "      <td>0.252919</td>\n",
       "      <td>0.144249</td>\n",
       "      <td>4</td>\n",
       "    </tr>\n",
       "    <tr>\n",
       "      <th>169</th>\n",
       "      <td>WRB</td>\n",
       "      <td>0.373861</td>\n",
       "      <td>0.165771</td>\n",
       "      <td>3</td>\n",
       "    </tr>\n",
       "    <tr>\n",
       "      <th>170</th>\n",
       "      <td>WY</td>\n",
       "      <td>0.364671</td>\n",
       "      <td>0.223062</td>\n",
       "      <td>2</td>\n",
       "    </tr>\n",
       "    <tr>\n",
       "      <th>171</th>\n",
       "      <td>XEL</td>\n",
       "      <td>0.286342</td>\n",
       "      <td>0.141609</td>\n",
       "      <td>4</td>\n",
       "    </tr>\n",
       "    <tr>\n",
       "      <th>172</th>\n",
       "      <td>ZION</td>\n",
       "      <td>0.255231</td>\n",
       "      <td>0.253621</td>\n",
       "      <td>1</td>\n",
       "    </tr>\n",
       "  </tbody>\n",
       "</table>\n",
       "<p>173 rows × 4 columns</p>\n",
       "</div>"
      ],
      "text/plain": [
       "    Symbol  Yearly_return  Yearly_Volatility  cluster_labels\n",
       "0        A       0.292525           0.243389               1\n",
       "1      ABT       0.243146           0.195846               0\n",
       "2      ADP       0.287912           0.182200               0\n",
       "3      AEP       0.269393           0.135657               4\n",
       "4      AES       0.360297           0.199490               3\n",
       "..     ...            ...                ...             ...\n",
       "168    WMT       0.252919           0.144249               4\n",
       "169    WRB       0.373861           0.165771               3\n",
       "170     WY       0.364671           0.223062               2\n",
       "171    XEL       0.286342           0.141609               4\n",
       "172   ZION       0.255231           0.253621               1\n",
       "\n",
       "[173 rows x 4 columns]"
      ]
     },
     "execution_count": 354,
     "metadata": {},
     "output_type": "execute_result"
    }
   ],
   "source": [
    "agg_df3_sub_symbols['cluster_labels'] = kmeans.labels_\n",
    "agg_df3_sub_symbols\n"
   ]
  },
  {
   "cell_type": "code",
   "execution_count": 355,
   "id": "a09a69fa",
   "metadata": {},
   "outputs": [
    {
     "data": {
      "text/html": [
       "<div>\n",
       "<style scoped>\n",
       "    .dataframe tbody tr th:only-of-type {\n",
       "        vertical-align: middle;\n",
       "    }\n",
       "\n",
       "    .dataframe tbody tr th {\n",
       "        vertical-align: top;\n",
       "    }\n",
       "\n",
       "    .dataframe thead th {\n",
       "        text-align: right;\n",
       "    }\n",
       "</style>\n",
       "<table border=\"1\" class=\"dataframe\">\n",
       "  <thead>\n",
       "    <tr style=\"text-align: right;\">\n",
       "      <th></th>\n",
       "      <th>cluster_labels</th>\n",
       "      <th>Yearly_return</th>\n",
       "      <th>Yearly_Volatility</th>\n",
       "      <th>Count</th>\n",
       "    </tr>\n",
       "  </thead>\n",
       "  <tbody>\n",
       "    <tr>\n",
       "      <th>0</th>\n",
       "      <td>0</td>\n",
       "      <td>0.282965</td>\n",
       "      <td>0.194491</td>\n",
       "      <td>35</td>\n",
       "    </tr>\n",
       "    <tr>\n",
       "      <th>1</th>\n",
       "      <td>1</td>\n",
       "      <td>0.272825</td>\n",
       "      <td>0.254668</td>\n",
       "      <td>35</td>\n",
       "    </tr>\n",
       "    <tr>\n",
       "      <th>2</th>\n",
       "      <td>2</td>\n",
       "      <td>0.340325</td>\n",
       "      <td>0.237069</td>\n",
       "      <td>41</td>\n",
       "    </tr>\n",
       "    <tr>\n",
       "      <th>3</th>\n",
       "      <td>3</td>\n",
       "      <td>0.360087</td>\n",
       "      <td>0.169713</td>\n",
       "      <td>37</td>\n",
       "    </tr>\n",
       "    <tr>\n",
       "      <th>4</th>\n",
       "      <td>4</td>\n",
       "      <td>0.265619</td>\n",
       "      <td>0.146097</td>\n",
       "      <td>19</td>\n",
       "    </tr>\n",
       "    <tr>\n",
       "      <th>5</th>\n",
       "      <td>5</td>\n",
       "      <td>0.303187</td>\n",
       "      <td>0.351161</td>\n",
       "      <td>6</td>\n",
       "    </tr>\n",
       "  </tbody>\n",
       "</table>\n",
       "</div>"
      ],
      "text/plain": [
       "   cluster_labels  Yearly_return  Yearly_Volatility  Count\n",
       "0               0       0.282965           0.194491     35\n",
       "1               1       0.272825           0.254668     35\n",
       "2               2       0.340325           0.237069     41\n",
       "3               3       0.360087           0.169713     37\n",
       "4               4       0.265619           0.146097     19\n",
       "5               5       0.303187           0.351161      6"
      ]
     },
     "execution_count": 355,
     "metadata": {},
     "output_type": "execute_result"
    }
   ],
   "source": [
    "stock_sub_clustered = (\n",
    "    agg_df3_sub_symbols\n",
    "    .groupby('cluster_labels')\n",
    "    .agg({\"Yearly_return\":\"mean\", \"Yearly_Volatility\":\"mean\", \"Symbol\":\"size\"})\n",
    "    .rename(columns = {'Symbol':'Count'})\n",
    "    .reset_index()\n",
    ")\n",
    "\n",
    "stock_sub_clustered"
   ]
  },
  {
   "cell_type": "markdown",
   "id": "1741a53c",
   "metadata": {},
   "source": [
    "Now we can see, in cluster number 3, we have a pool of stocks with 36 percent return and 17 percent volatility, which gives us a good starting point to begin with. We can further research on these stocks and then make a call\n",
    "\n",
    "There are metrics like **sharpe ratio** which are used to assess the risk-return profile of a stock, which we will take a look at in subsequent lab sessions:-"
   ]
  },
  {
   "cell_type": "markdown",
   "id": "f9540d2c",
   "metadata": {},
   "source": [
    "For now, we have identified a set of stocks for out portfolio. You can print their company names as an exercise"
   ]
  },
  {
   "cell_type": "markdown",
   "id": "92ce5fd0",
   "metadata": {},
   "source": [
    "**The method which I illustrated above shows how k-means can be applied to arrive at portfolio of stocks. Its just an example. There are draw backs of K-means as well**"
   ]
  },
  {
   "cell_type": "code",
   "execution_count": null,
   "id": "cfe3d6ef",
   "metadata": {},
   "outputs": [],
   "source": []
  }
 ],
 "metadata": {
  "kernelspec": {
   "display_name": "Python 3",
   "language": "python",
   "name": "python3"
  },
  "language_info": {
   "codemirror_mode": {
    "name": "ipython",
    "version": 3
   },
   "file_extension": ".py",
   "mimetype": "text/x-python",
   "name": "python",
   "nbconvert_exporter": "python",
   "pygments_lexer": "ipython3",
   "version": "3.8.8"
  }
 },
 "nbformat": 4,
 "nbformat_minor": 5
}
