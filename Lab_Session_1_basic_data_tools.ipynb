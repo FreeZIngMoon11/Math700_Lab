{
 "cells": [
  {
   "cell_type": "markdown",
   "id": "1376d9fc",
   "metadata": {},
   "source": [
    "Python is a powerful and flexible programming language. However, it doesn't have tools for performing complex mathematical operations and visualizing data. We mainly use three libraries for performing data analysis:-\n",
    "\n",
    "**1)Numpy** <br>\n",
    "**2)Matplotlib** <br>\n",
    "**3)Pandas**\n",
    "\n",
    "We will be covering Numpy and Matplotlib in this module."
   ]
  },
  {
   "cell_type": "markdown",
   "id": "e708d4f1",
   "metadata": {},
   "source": [
    "# Basic Data Tools: Numpy"
   ]
  },
  {
   "cell_type": "markdown",
   "id": "fbcab420",
   "metadata": {},
   "source": [
    "Numpy features are multi-dimensional, hence its used extensively in Machine Learning. Its highlights are:-\n",
    "\n",
    "**1)Mathematical toolkit(sin, log, exp)** <br>\n",
    "**2)Random Sampling Module(often used in ML)** <br>\n",
    "**3)Numpy nd-array object**\n",
    "\n",
    "A numpy array can be one dimensional, two dimensional or n-dimensional. Lets take a few examples:-"
   ]
  },
  {
   "cell_type": "code",
   "execution_count": 1,
   "id": "e556585d",
   "metadata": {},
   "outputs": [],
   "source": [
    "#to access numpy, we will have to import it\n",
    "import numpy as np"
   ]
  },
  {
   "cell_type": "code",
   "execution_count": 2,
   "id": "e3ed2f59",
   "metadata": {},
   "outputs": [
    {
     "data": {
      "text/plain": [
       "array([[1, 2],\n",
       "       [3, 4]])"
      ]
     },
     "execution_count": 2,
     "metadata": {},
     "output_type": "execute_result"
    }
   ],
   "source": [
    "lists = [[1,2],[3,4]]\n",
    "np_array = np.array(lists)\n",
    "np_array"
   ]
  },
  {
   "cell_type": "code",
   "execution_count": 3,
   "id": "c2cc08ff",
   "metadata": {},
   "outputs": [
    {
     "data": {
      "text/plain": [
       "(2, 2)"
      ]
     },
     "execution_count": 3,
     "metadata": {},
     "output_type": "execute_result"
    }
   ],
   "source": [
    "np_array.shape #this specifies the dimension of the matrix/array"
   ]
  },
  {
   "cell_type": "code",
   "execution_count": 50,
   "id": "42cc525d",
   "metadata": {},
   "outputs": [
    {
     "data": {
      "text/plain": [
       "array([[1, 2, 3, 4]])"
      ]
     },
     "execution_count": 50,
     "metadata": {},
     "output_type": "execute_result"
    }
   ],
   "source": [
    "np_array_modified = np_array.reshape(1,4) #reshaping the array into another dimension \n",
    "np_array_modified"
   ]
  },
  {
   "cell_type": "markdown",
   "id": "1eac1b39",
   "metadata": {},
   "source": [
    "We can also create a variety of arrays using numpy functionalities:-"
   ]
  },
  {
   "cell_type": "code",
   "execution_count": 4,
   "id": "c6920edf",
   "metadata": {},
   "outputs": [
    {
     "data": {
      "text/plain": [
       "array([1., 3., 5.])"
      ]
     },
     "execution_count": 4,
     "metadata": {},
     "output_type": "execute_result"
    }
   ],
   "source": [
    "np.linspace(1,5,3) #creates evenly spaced numbers"
   ]
  },
  {
   "cell_type": "code",
   "execution_count": 5,
   "id": "2ad62f30",
   "metadata": {},
   "outputs": [
    {
     "data": {
      "text/plain": [
       "array([0., 0., 0., 0., 0.])"
      ]
     },
     "execution_count": 5,
     "metadata": {},
     "output_type": "execute_result"
    }
   ],
   "source": [
    "np.zeros(5) #array of zeros"
   ]
  },
  {
   "cell_type": "code",
   "execution_count": 6,
   "id": "7a5cc971",
   "metadata": {},
   "outputs": [
    {
     "data": {
      "text/plain": [
       "array([[[0., 0., 0.],\n",
       "        [0., 0., 0.],\n",
       "        [0., 0., 0.]],\n",
       "\n",
       "       [[0., 0., 0.],\n",
       "        [0., 0., 0.],\n",
       "        [0., 0., 0.]],\n",
       "\n",
       "       [[0., 0., 0.],\n",
       "        [0., 0., 0.],\n",
       "        [0., 0., 0.]]])"
      ]
     },
     "execution_count": 6,
     "metadata": {},
     "output_type": "execute_result"
    }
   ],
   "source": [
    "np.zeros((3,3,3)) #3 dimensional array"
   ]
  },
  {
   "cell_type": "code",
   "execution_count": 7,
   "id": "08d5de66",
   "metadata": {},
   "outputs": [
    {
     "data": {
      "text/plain": [
       "array([[1., 0., 0., 0., 0.],\n",
       "       [0., 1., 0., 0., 0.],\n",
       "       [0., 0., 1., 0., 0.],\n",
       "       [0., 0., 0., 1., 0.],\n",
       "       [0., 0., 0., 0., 1.]])"
      ]
     },
     "execution_count": 7,
     "metadata": {},
     "output_type": "execute_result"
    }
   ],
   "source": [
    "np.eye(5) #identity matrix"
   ]
  },
  {
   "cell_type": "code",
   "execution_count": 8,
   "id": "6acb5276",
   "metadata": {},
   "outputs": [
    {
     "data": {
      "text/plain": [
       "array([[2, 0, 0],\n",
       "       [0, 5, 0],\n",
       "       [0, 0, 7]])"
      ]
     },
     "execution_count": 8,
     "metadata": {},
     "output_type": "execute_result"
    }
   ],
   "source": [
    "np.diag((2,5,7)) #diagonal matrix"
   ]
  },
  {
   "cell_type": "markdown",
   "id": "836268d3",
   "metadata": {},
   "source": [
    "**Why numpy arrays are useful?** \n",
    "\n",
    "Numpy arrays are implemented in C++, and python uses them as an interface, so it does computation quite fast"
   ]
  },
  {
   "cell_type": "code",
   "execution_count": 15,
   "id": "fcb4207c",
   "metadata": {},
   "outputs": [],
   "source": [
    "list_1 = [np.random.random() for _ in range(1000)]\n",
    "list_2 = np.array(list_1)"
   ]
  },
  {
   "cell_type": "code",
   "execution_count": 16,
   "id": "6d8dca90",
   "metadata": {
    "scrolled": true
   },
   "outputs": [
    {
     "name": "stdout",
     "output_type": "stream",
     "text": [
      "3.55 µs ± 10.4 ns per loop (mean ± std. dev. of 7 runs, 100000 loops each)\n"
     ]
    }
   ],
   "source": [
    "%%timeit\n",
    "sum(list_1)"
   ]
  },
  {
   "cell_type": "code",
   "execution_count": 18,
   "id": "55df45d5",
   "metadata": {},
   "outputs": [
    {
     "name": "stdout",
     "output_type": "stream",
     "text": [
      "2.73 µs ± 5.53 ns per loop (mean ± std. dev. of 7 runs, 100000 loops each)\n"
     ]
    }
   ],
   "source": [
    "%%timeit\n",
    "np.sum(list_2)"
   ]
  },
  {
   "cell_type": "markdown",
   "id": "166ac3e5",
   "metadata": {},
   "source": [
    "Numpy has also convenient way of performing operations. Lets calculate column sum of lists and np_array variables created above"
   ]
  },
  {
   "cell_type": "code",
   "execution_count": 29,
   "id": "6acfd9d5",
   "metadata": {},
   "outputs": [
    {
     "data": {
      "text/plain": [
       "array([4, 6])"
      ]
     },
     "execution_count": 29,
     "metadata": {},
     "output_type": "execute_result"
    }
   ],
   "source": [
    "np.sum(np_array,axis = 0)"
   ]
  },
  {
   "cell_type": "code",
   "execution_count": 30,
   "id": "f14c9ee6",
   "metadata": {},
   "outputs": [
    {
     "data": {
      "text/plain": [
       "[4, 6]"
      ]
     },
     "execution_count": 30,
     "metadata": {},
     "output_type": "execute_result"
    }
   ],
   "source": [
    "row_length = len(lists[0])\n",
    "[sum(row[i] for row in lists) for i in range(row_length)]"
   ]
  },
  {
   "cell_type": "code",
   "execution_count": 35,
   "id": "46af616d",
   "metadata": {},
   "outputs": [
    {
     "name": "stdout",
     "output_type": "stream",
     "text": [
      "36\n",
      "[ 2  6 12]\n",
      "[ 1  8 27]\n",
      "[ 0.54030231 -0.41614684 -0.9899925 ]\n"
     ]
    }
   ],
   "source": [
    "list_3 = np.array([1,2,3])\n",
    "list_4 = np.array([1,4,9])\n",
    "\n",
    "print(np.dot(list_3,list_4)) #dot_product\n",
    "print(list_3+list_4) #element vise addition\n",
    "print(list_3*list_4) #element vise multiplication\n",
    "print(np.cos(list_3)) #cosine of each number"
   ]
  },
  {
   "cell_type": "code",
   "execution_count": 40,
   "id": "99dc0bfc",
   "metadata": {},
   "outputs": [
    {
     "data": {
      "text/plain": [
       "array([[13, 24,  6, 12, 23,  5],\n",
       "       [18, 14, 15, 19, 15, 14],\n",
       "       [17,  9,  9, 14, 22,  6],\n",
       "       [ 6, 11, 13, 19, 20, 14],\n",
       "       [15, 20, 22, 24,  7, 21]])"
      ]
     },
     "execution_count": 40,
     "metadata": {},
     "output_type": "execute_result"
    }
   ],
   "source": [
    "np_matrix = np.random.randint(5,25,size = (5,6))\n",
    "np_matrix"
   ]
  },
  {
   "cell_type": "code",
   "execution_count": 49,
   "id": "1fd1f1c1",
   "metadata": {},
   "outputs": [
    {
     "name": "stdout",
     "output_type": "stream",
     "text": [
      "[15 19 15]\n",
      "[13.83333333 15.83333333 12.83333333 13.83333333 18.16666667]\n",
      "[7.42555647 1.95078332 5.45944645 4.74048755 5.69844033]\n"
     ]
    }
   ],
   "source": [
    "print(np_matrix[1,2:5])\n",
    "print(np.mean(np_matrix,axis = 1)) #certain data aggregation options\n",
    "print(np.std(np_matrix, axis = 1)) "
   ]
  },
  {
   "cell_type": "markdown",
   "id": "bbb2c6fe",
   "metadata": {},
   "source": [
    "These are some of the basic functionalities of Numpy. As we go along the course, we will encounter more. \n",
    "\n",
    "The first step often in data analysis is data visualization. Matplotlib is a very important library for plotting, which we shall take a look at next"
   ]
  },
  {
   "cell_type": "markdown",
   "id": "aa3577f3",
   "metadata": {},
   "source": [
    "# Basic Data Tools: Matplotlib"
   ]
  },
  {
   "cell_type": "code",
   "execution_count": 51,
   "id": "877f0efb",
   "metadata": {},
   "outputs": [],
   "source": [
    "import matplotlib.pyplot as plt"
   ]
  },
  {
   "cell_type": "code",
   "execution_count": 92,
   "id": "9451c761",
   "metadata": {},
   "outputs": [],
   "source": [
    "num_of_days = 365\n",
    "\n",
    "days_array = np.arange(num_of_days)\n",
    "profit_array = np.random.randn(num_of_days)* 10000  \n"
   ]
  },
  {
   "cell_type": "code",
   "execution_count": 93,
   "id": "4be08fe9",
   "metadata": {},
   "outputs": [
    {
     "data": {
      "text/plain": [
       "Text(0, 0.5, 'Profit in Millions')"
      ]
     },
     "execution_count": 93,
     "metadata": {},
     "output_type": "execute_result"
    },
    {
     "data": {
      "image/png": "[encoded data removed]",
      "text/plain": [
       "<Figure size 432x288 with 1 Axes>"
      ]
     },
     "metadata": {
      "needs_background": "light"
     },
     "output_type": "display_data"
    }
   ],
   "source": [
    "plt.plot(days_array,profit_array)\n",
    "plt.xlabel('Time(in Days)')             # data plotting\n",
    "plt.ylabel('Profit in Millions')   "
   ]
  },
  {
   "cell_type": "code",
   "execution_count": 124,
   "id": "a640be98",
   "metadata": {},
   "outputs": [],
   "source": [
    "\n",
    "np.random.seed(2)\n",
    "actuals_turnover = np.random.randint(100000,200000,(1,20))\n",
    "forecast_turnover = 130000 + np.random.randint(0,100000,(1,20))*0.3"
   ]
  },
  {
   "cell_type": "code",
   "execution_count": 126,
   "id": "9eba9ac2",
   "metadata": {},
   "outputs": [
    {
     "data": {
      "text/plain": [
       "Text(0, 0.5, 'Forecasts(in million)')"
      ]
     },
     "execution_count": 126,
     "metadata": {},
     "output_type": "execute_result"
    },
    {
     "data": {
      "image/png": "[encoded data removed]",
      "text/plain": [
       "<Figure size 432x288 with 1 Axes>"
      ]
     },
     "metadata": {
      "needs_background": "light"
     },
     "output_type": "display_data"
    }
   ],
   "source": [
    "plt.scatter(actuals_turnover,forecast_turnover, label = 'Data')\n",
    "plt.plot(np.arange(100000,200000),np.arange(100000,200000), color = 'r')\n",
    "plt.xlabel('Actuals(in million)')\n",
    "plt.ylabel('Forecasts(in million)')"
   ]
  },
  {
   "cell_type": "code",
   "execution_count": null,
   "id": "7405dfe8",
   "metadata": {},
   "outputs": [],
   "source": []
  }
 ],
 "metadata": {
  "kernelspec": {
   "display_name": "Python 3",
   "language": "python",
   "name": "python3"
  },
  "language_info": {
   "codemirror_mode": {
    "name": "ipython",
    "version": 3
   },
   "file_extension": ".py",
   "mimetype": "text/x-python",
   "name": "python",
   "nbconvert_exporter": "python",
   "pygments_lexer": "ipython3",
   "version": "3.8.8"
  }
 },
 "nbformat": 4,
 "nbformat_minor": 5
}
